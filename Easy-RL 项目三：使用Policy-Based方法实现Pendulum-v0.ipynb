{
 "cells": [
  {
   "cell_type": "markdown",
   "metadata": {},
   "source": [
    "# Pendulum-v0环境\n",
    "\n",
    "    使用Policy-Based方法比如DDPG等实现Pendulum-v0环境\n",
    "\n",
    "![img](https://datawhalechina.github.io/easy-rl/chapter12/img/image-20200820174814084.png)\n",
    "\n",
    "    钟摆以随机位置开始，目标是将其摆动，使其保持向上直立。动作空间是连续的，值的区间为[-2,2]。每个step给的reward最低为-16.27，最高为0。"
   ]
  },
  {
   "cell_type": "code",
   "execution_count": 4,
   "metadata": {},
   "outputs": [
    {
     "name": "stdout",
     "output_type": "stream",
     "text": [
      "3\n"
     ]
    }
   ],
   "source": [
    "# 环境建立如下：\n",
    "\n",
    "import gym\n",
    "import turtle\n",
    "import numpy as np\n",
    "\n",
    "env = gym.make('Pendulum-v1') \n",
    "env.seed(1) # 设置env随机种子\n",
    "n_states = env.observation_space.shape[0] # 获取总的状态数\n",
    "\n",
    "print(n_states)"
   ]
  },
  {
   "cell_type": "markdown",
   "metadata": {},
   "source": [
    "# 建立Model"
   ]
  },
  {
   "cell_type": "code",
   "execution_count": 5,
   "metadata": {
    "code_folding": [
     6,
     29,
     44
    ]
   },
   "outputs": [],
   "source": [
    "import random\n",
    "import numpy as np\n",
    "import torch\n",
    "import torch.nn as nn\n",
    "import torch.optim as optim\n",
    "import torch.nn.functional as F"
   ]
  },
  {
   "cell_type": "code",
   "execution_count": 6,
   "metadata": {
    "code_folding": [
     0,
     23,
     38,
     56
    ]
   },
   "outputs": [],
   "source": [
    "class ReplayBuffer:\n",
    "    def __init__(self, capacity):\n",
    "        self.capacity = capacity # 经验回放的容量\n",
    "        self.buffer = [] # 缓冲区\n",
    "        self.position = 0 \n",
    "    \n",
    "    def push(self, state, action, reward, next_state, done):\n",
    "        ''' 缓冲区是一个队列，容量超出时去掉开始存入的转移(transition)\n",
    "        '''\n",
    "        if len(self.buffer) < self.capacity:\n",
    "            self.buffer.append(None)\n",
    "        self.buffer[self.position] = (state, action, reward, next_state, done)\n",
    "        self.position = (self.position + 1) % self.capacity \n",
    "    \n",
    "    def sample(self, batch_size):\n",
    "        batch = random.sample(self.buffer, batch_size) # 随机采出小批量转移\n",
    "        state, action, reward, next_state, done =  zip(*batch) # 解压成状态，动作等\n",
    "        return state, action, reward, next_state, done\n",
    "    \n",
    "    def __len__(self):\n",
    "        ''' 返回当前存储的量\n",
    "        '''\n",
    "        return len(self.buffer)\n",
    "class Actor(nn.Module):\n",
    "    def __init__(self, n_states, n_actions, hidden_dim, init_w=3e-3):\n",
    "        super(Actor, self).__init__()  \n",
    "        self.linear1 = nn.Linear(n_states, hidden_dim)\n",
    "        self.linear2 = nn.Linear(hidden_dim, hidden_dim)\n",
    "        self.linear3 = nn.Linear(hidden_dim, n_actions)\n",
    "        \n",
    "        self.linear3.weight.data.uniform_(-init_w, init_w)\n",
    "        self.linear3.bias.data.uniform_(-init_w, init_w)\n",
    "        \n",
    "    def forward(self, x):\n",
    "        x = F.relu(self.linear1(x))\n",
    "        x = F.relu(self.linear2(x))\n",
    "        x = torch.tanh(self.linear3(x))\n",
    "        return x\n",
    "class Critic(nn.Module):\n",
    "    def __init__(self, n_states, n_actions, hidden_dim, init_w=3e-3):\n",
    "        super(Critic, self).__init__()\n",
    "        \n",
    "        self.linear1 = nn.Linear(n_states + n_actions, hidden_dim)\n",
    "        self.linear2 = nn.Linear(hidden_dim, hidden_dim)\n",
    "        self.linear3 = nn.Linear(hidden_dim, 1)\n",
    "        # 随机初始化为较小的值\n",
    "        self.linear3.weight.data.uniform_(-init_w, init_w)\n",
    "        self.linear3.bias.data.uniform_(-init_w, init_w)\n",
    "        \n",
    "    def forward(self, state, action):\n",
    "        # 按维数1拼接\n",
    "        x = torch.cat([state, action], 1)\n",
    "        x = F.relu(self.linear1(x))\n",
    "        x = F.relu(self.linear2(x))\n",
    "        x = self.linear3(x)\n",
    "        return x\n",
    "class DDPG:\n",
    "    def __init__(self, n_states, n_actions, cfg):\n",
    "        self.device = torch.device(cfg.device)\n",
    "        self.critic = Critic(n_states, n_actions, cfg.hidden_dim).to(self.device)\n",
    "        self.actor = Actor(n_states, n_actions, cfg.hidden_dim).to(self.device)\n",
    "        self.target_critic = Critic(n_states, n_actions, cfg.hidden_dim).to(self.device)\n",
    "        self.target_actor = Actor(n_states, n_actions, cfg.hidden_dim).to(self.device)\n",
    "\n",
    "        # 复制参数到目标网络\n",
    "        for target_param, param in zip(self.target_critic.parameters(), self.critic.parameters()):\n",
    "            target_param.data.copy_(param.data)\n",
    "        for target_param, param in zip(self.target_actor.parameters(), self.actor.parameters()):\n",
    "            target_param.data.copy_(param.data)\n",
    "\n",
    "        self.critic_optimizer = optim.Adam(\n",
    "            self.critic.parameters(),  lr=cfg.critic_lr)\n",
    "        self.actor_optimizer = optim.Adam(self.actor.parameters(), lr=cfg.actor_lr)\n",
    "        self.memory = ReplayBuffer(cfg.memory_capacity)\n",
    "        self.batch_size = cfg.batch_size\n",
    "        self.soft_tau = cfg.soft_tau # 软更新参数\n",
    "        self.gamma = cfg.gamma\n",
    "\n",
    "    def choose_action(self, state):\n",
    "        state = torch.FloatTensor(state).unsqueeze(0).to(self.device)\n",
    "        action = self.actor(state)\n",
    "        return action.detach().cpu().numpy()[0, 0]\n",
    "\n",
    "    def update(self):\n",
    "        if len(self.memory) < self.batch_size: # 当 memory 中不满足一个批量时，不更新策略\n",
    "            return\n",
    "        # 从经验回放中(replay memory)中随机采样一个批量的转移(transition)\n",
    "        state, action, reward, next_state, done = self.memory.sample(self.batch_size)\n",
    "        # 转变为张量\n",
    "        state = torch.FloatTensor(np.array(state)).to(self.device)\n",
    "        next_state = torch.FloatTensor(np.array(next_state)).to(self.device)\n",
    "        action = torch.FloatTensor(np.array(action)).to(self.device)\n",
    "        reward = torch.FloatTensor(reward).unsqueeze(1).to(self.device)\n",
    "        done = torch.FloatTensor(np.float32(done)).unsqueeze(1).to(self.device)\n",
    "        \n",
    "        policy_loss = self.critic(state, self.actor(state))\n",
    "        policy_loss = -policy_loss.mean()\n",
    "        next_action = self.target_actor(next_state)\n",
    "        target_value = self.target_critic(next_state, next_action.detach())\n",
    "        expected_value = reward + (1.0 - done) * self.gamma * target_value\n",
    "        expected_value = torch.clamp(expected_value, -np.inf, np.inf)\n",
    "\n",
    "        value = self.critic(state, action)\n",
    "        value_loss = nn.MSELoss()(value, expected_value.detach())\n",
    "        \n",
    "        self.actor_optimizer.zero_grad()\n",
    "        policy_loss.backward()\n",
    "        self.actor_optimizer.step()\n",
    "        self.critic_optimizer.zero_grad()\n",
    "        value_loss.backward()\n",
    "        self.critic_optimizer.step()\n",
    "        # 软更新\n",
    "        for target_param, param in zip(self.target_critic.parameters(), self.critic.parameters()):\n",
    "            target_param.data.copy_(\n",
    "                target_param.data * (1.0 - self.soft_tau) +\n",
    "                param.data * self.soft_tau\n",
    "            )\n",
    "        for target_param, param in zip(self.target_actor.parameters(), self.actor.parameters()):\n",
    "            target_param.data.copy_(\n",
    "                target_param.data * (1.0 - self.soft_tau) +\n",
    "                param.data * self.soft_tau\n",
    "            )\n",
    "    def save(self,path):\n",
    "        torch.save(self.actor.state_dict(), path+'checkpoint.pt')\n",
    "\n",
    "    def load(self,path):\n",
    "        self.actor.load_state_dict(torch.load(path+'checkpoint.pt')) "
   ]
  },
  {
   "cell_type": "markdown",
   "metadata": {},
   "source": [
    "# 建立环境"
   ]
  },
  {
   "cell_type": "code",
   "execution_count": 7,
   "metadata": {},
   "outputs": [],
   "source": [
    "import gym\n",
    "import numpy as np"
   ]
  },
  {
   "cell_type": "code",
   "execution_count": 8,
   "metadata": {
    "code_folding": [
     1,
     18
    ]
   },
   "outputs": [],
   "source": [
    "\n",
    "class NormalizedActions(gym.ActionWrapper):\n",
    "    ''' 将action范围重定在[0.1]之间\n",
    "    '''\n",
    "    def action(self, action):\n",
    "        low_bound   = self.action_space.low\n",
    "        upper_bound = self.action_space.high\n",
    "        action = low_bound + (action + 1.0) * 0.5 * (upper_bound - low_bound)\n",
    "        action = np.clip(action, low_bound, upper_bound)\n",
    "        return action\n",
    "\n",
    "    def reverse_action(self, action):\n",
    "        low_bound   = self.action_space.low\n",
    "        upper_bound = self.action_space.high\n",
    "        action = 2 * (action - low_bound) / (upper_bound - low_bound) - 1\n",
    "        action = np.clip(action, low_bound, upper_bound)\n",
    "        return action\n",
    "\n",
    "class OUNoise(object):\n",
    "    '''Ornstein–Uhlenbeck噪声\n",
    "    '''\n",
    "    def __init__(self, action_space, mu=0.0, theta=0.15, max_sigma=0.3, min_sigma=0.3, decay_period=100000):\n",
    "        self.mu           = mu # OU噪声的参数\n",
    "        self.theta        = theta # OU噪声的参数\n",
    "        self.sigma        = max_sigma # OU噪声的参数\n",
    "        self.max_sigma    = max_sigma\n",
    "        self.min_sigma    = min_sigma\n",
    "        self.decay_period = decay_period\n",
    "        self.n_actions   = action_space.shape[0]\n",
    "        self.low          = action_space.low\n",
    "        self.high         = action_space.high\n",
    "        self.reset()\n",
    "    def reset(self):\n",
    "        self.obs = np.ones(self.n_actions) * self.mu\n",
    "    def evolve_obs(self):\n",
    "        x  = self.obs\n",
    "        dx = self.theta * (self.mu - x) + self.sigma * np.random.randn(self.n_actions)\n",
    "        self.obs = x + dx\n",
    "        return self.obs\n",
    "    def get_action(self, action, t=0):\n",
    "        ou_obs = self.evolve_obs()\n",
    "        self.sigma = self.max_sigma - (self.max_sigma - self.min_sigma) * min(1.0, t / self.decay_period) # sigma会逐渐衰减\n",
    "        return np.clip(action + ou_obs, self.low, self.high) # 动作加上噪声后进行剪切"
   ]
  },
  {
   "cell_type": "code",
   "execution_count": null,
   "metadata": {},
   "outputs": [],
   "source": []
  },
  {
   "cell_type": "markdown",
   "metadata": {},
   "source": [
    "# 开始训练 & 测试"
   ]
  },
  {
   "cell_type": "code",
   "execution_count": 10,
   "metadata": {},
   "outputs": [
    {
     "name": "stdout",
     "output_type": "stream",
     "text": [
      "/Users/xiejianghuangchao/Downloads 2022-07-26 15:20:02\n"
     ]
    }
   ],
   "source": [
    "import sys,os\n",
    "__file__ = \"/Users/xiejianghuangchao/Downloads/XXX.ipynb\"\n",
    "curr_path = os.path.dirname(os.path.abspath(__file__))  # current path\n",
    "parent_path = os.path.dirname(curr_path)  # parent path\n",
    "#sys.path.append(parent_path)  # add to system path\n",
    "\n",
    "import datetime\n",
    "import gym\n",
    "import torch\n",
    "import argparse\n",
    "\n",
    "#from env import NormalizedActions,OUNoise\n",
    "#from ddpg import DDPG\n",
    "from common.utils import save_results,make_dir\n",
    "from common.utils import plot_rewards,save_args\n",
    "\n",
    "curr_time = datetime.datetime.now().strftime(\"%Y-%m-%d %H:%M:%S\") # 获取当前时间\n",
    "\n",
    "print(curr_path, curr_time)"
   ]
  },
  {
   "cell_type": "markdown",
   "metadata": {},
   "source": [
    "## 配置超参数"
   ]
  },
  {
   "cell_type": "code",
   "execution_count": 15,
   "metadata": {
    "code_folding": [
     2,
     28
    ]
   },
   "outputs": [],
   "source": [
    "\n",
    "def get_args():\n",
    "    \"\"\" Hyperparameters\n",
    "    \"\"\"\n",
    "    curr_time = datetime.datetime.now().strftime(\"%Y%m%d-%H%M%S\")  # Obtain current time\n",
    "    parser = argparse.ArgumentParser(description=\"hyperparameters\")      \n",
    "    parser.add_argument('--algo_name',default='DDPG',type=str,help=\"name of algorithm\")\n",
    "    parser.add_argument('--env_name',default='Pendulum-v1',type=str,help=\"name of environment\")\n",
    "    parser.add_argument('--train_eps',default=300,type=int,help=\"episodes of training\")\n",
    "    parser.add_argument('--test_eps',default=20,type=int,help=\"episodes of testing\")\n",
    "    parser.add_argument('--gamma',default=0.99,type=float,help=\"discounted factor\")\n",
    "    parser.add_argument('--critic_lr',default=1e-3,type=float,help=\"learning rate of critic\")\n",
    "    parser.add_argument('--actor_lr',default=1e-4,type=float,help=\"learning rate of actor\")\n",
    "    parser.add_argument('--memory_capacity',default=8000,type=int,help=\"memory capacity\")\n",
    "    parser.add_argument('--batch_size',default=128,type=int)\n",
    "    parser.add_argument('--target_update',default=2,type=int)\n",
    "    parser.add_argument('--soft_tau',default=1e-2,type=float)\n",
    "    parser.add_argument('--hidden_dim',default=256,type=int)\n",
    "    parser.add_argument('--device',default='cpu',type=str,help=\"cpu or cuda\") \n",
    "    parser.add_argument('--result_path',default=curr_path + \"/outputs/\" + parser.parse_args().env_name + \\\n",
    "            '/' + curr_time + '/results/' )\n",
    "    parser.add_argument('--model_path',default=curr_path + \"/outputs/\" + parser.parse_args().env_name + \\\n",
    "            '/' + curr_time + '/models/' ) # path to save models\n",
    "    parser.add_argument('--save_fig',default=True,type=bool,help=\"if save figure or not\")   \n",
    "    args = parser.parse_args()                           \n",
    "    return args\n",
    "\n",
    "def env_agent_config(cfg,seed=1):\n",
    "    env = NormalizedActions(gym.make(cfg.env_name)) # 装饰action噪声\n",
    "    env.seed(seed) # 随机种子\n",
    "    n_states = env.observation_space.shape[0]\n",
    "    n_actions = env.action_space.shape[0]\n",
    "    agent = DDPG(n_states,n_actions,cfg)\n",
    "    return env,agent\n"
   ]
  },
  {
   "cell_type": "code",
   "execution_count": 16,
   "metadata": {
    "code_folding": [
     0
    ]
   },
   "outputs": [],
   "source": [
    "class Config:\n",
    "    \"\"\" Hyperparameters\n",
    "    \"\"\"\n",
    "    curr_time = datetime.datetime.now().strftime(\"%Y%m%d-%H%M%S\")  # Obtain current time\n",
    "    algo_name='DDPG'\n",
    "    env_name='Pendulum-v1'\n",
    "    train_eps=300\n",
    "    test_eps=20\n",
    "    gamma=0.99\n",
    "    critic_lr=1e-3\n",
    "    actor_lr=1e-4\n",
    "    memory_capacity=8000\n",
    "    batch_size=128\n",
    "    target_update=2\n",
    "    soft_tau=1e-2\n",
    "    \n",
    "    hidden_dim=256\n",
    "    device='cpu'\n",
    "    result_path=curr_path + \"/outputs/\" + env_name + '/' + curr_time + '/results/'\n",
    "    model_path=curr_path + \"/outputs/\" + env_name + '/' + curr_time + '/models/' # path to save models\n",
    "    save_fig=True                   \n",
    "    \n",
    "a = Config()"
   ]
  },
  {
   "cell_type": "markdown",
   "metadata": {},
   "source": [
    "## 训练 & 测试Func"
   ]
  },
  {
   "cell_type": "code",
   "execution_count": 17,
   "metadata": {
    "code_folding": [
     0,
     31
    ]
   },
   "outputs": [],
   "source": [
    "def train(cfg, env, agent):\n",
    "    print('Start training!')\n",
    "    print(f'Env:{cfg.env_name}, Algorithm:{cfg.algo_name}, Device:{cfg.device}')\n",
    "    ou_noise = OUNoise(env.action_space)  # noise of action\n",
    "    rewards = [] # 记录所有回合的奖励\n",
    "    ma_rewards = []  # 记录所有回合的滑动平均奖励\n",
    "    for i_ep in range(cfg.train_eps):\n",
    "        state = env.reset()\n",
    "        ou_noise.reset()\n",
    "        done = False\n",
    "        ep_reward = 0\n",
    "        i_step = 0\n",
    "        while not done:\n",
    "            i_step += 1\n",
    "            action = agent.choose_action(state)\n",
    "            action = ou_noise.get_action(action, i_step) \n",
    "            next_state, reward, done, _ = env.step(action)\n",
    "            ep_reward += reward\n",
    "            agent.memory.push(state, action, reward, next_state, done)\n",
    "            agent.update()\n",
    "            state = next_state\n",
    "        if (i_ep+1)%10 == 0:\n",
    "            print(f'Env:{i_ep+1}/{cfg.train_eps}, Reward:{ep_reward:.2f}')\n",
    "        rewards.append(ep_reward)\n",
    "        if ma_rewards:\n",
    "            ma_rewards.append(0.9*ma_rewards[-1]+0.1*ep_reward)\n",
    "        else:\n",
    "            ma_rewards.append(ep_reward)\n",
    "    print('Finish training!')\n",
    "    return {'rewards':rewards,'ma_rewards':ma_rewards}\n",
    "\n",
    "def test(cfg, env, agent):\n",
    "    print('Start testing')\n",
    "    print(f'Env:{cfg.env_name}, Algorithm:{cfg.algo_name}, Device:{cfg.device}')\n",
    "    rewards = [] # 记录所有回合的奖励\n",
    "    ma_rewards = []  # 记录所有回合的滑动平均奖励\n",
    "    for i_ep in range(cfg.test_eps):\n",
    "        state = env.reset() \n",
    "        done = False\n",
    "        ep_reward = 0\n",
    "        i_step = 0\n",
    "        while not done:\n",
    "            i_step += 1\n",
    "            action = agent.choose_action(state)\n",
    "            next_state, reward, done, _ = env.step(action)\n",
    "            ep_reward += reward\n",
    "            state = next_state\n",
    "        rewards.append(ep_reward)\n",
    "        if ma_rewards:\n",
    "            ma_rewards.append(0.9*ma_rewards[-1]+0.1*ep_reward)\n",
    "        else:\n",
    "            ma_rewards.append(ep_reward)\n",
    "        print(f\"Epside:{i_ep+1}/{cfg.test_eps}, Reward:{ep_reward:.1f}\")\n",
    "    print('Finish testing!')\n",
    "    return {'rewards':rewards,'ma_rewards':ma_rewards}\n"
   ]
  },
  {
   "cell_type": "markdown",
   "metadata": {},
   "source": [
    "## RUN"
   ]
  },
  {
   "cell_type": "code",
   "execution_count": 19,
   "metadata": {},
   "outputs": [
    {
     "name": "stdout",
     "output_type": "stream",
     "text": [
      "Start training!\n",
      "Env:Pendulum-v1, Algorithm:DDPG, Device:cpu\n",
      "Env:10/300, Reward:-515.42\n",
      "Env:20/300, Reward:-259.51\n",
      "Env:30/300, Reward:-237.96\n",
      "Env:40/300, Reward:-479.19\n",
      "Env:50/300, Reward:-382.05\n",
      "Env:60/300, Reward:-498.14\n",
      "Env:70/300, Reward:-504.65\n",
      "Env:80/300, Reward:-254.29\n",
      "Env:90/300, Reward:-627.44\n",
      "Env:100/300, Reward:-610.84\n",
      "Env:110/300, Reward:-392.74\n",
      "Env:120/300, Reward:-804.61\n",
      "Env:130/300, Reward:-622.48\n",
      "Env:140/300, Reward:-598.58\n",
      "Env:150/300, Reward:-708.14\n",
      "Env:160/300, Reward:-485.28\n",
      "Env:170/300, Reward:-372.57\n",
      "Env:180/300, Reward:-376.35\n",
      "Env:190/300, Reward:-619.23\n",
      "Env:200/300, Reward:-616.13\n",
      "Env:210/300, Reward:-625.11\n",
      "Env:220/300, Reward:-736.87\n",
      "Env:230/300, Reward:-613.99\n",
      "Env:240/300, Reward:-615.96\n",
      "Env:250/300, Reward:-488.66\n",
      "Env:260/300, Reward:-126.73\n",
      "Env:270/300, Reward:-741.27\n",
      "Env:280/300, Reward:-363.56\n",
      "Env:290/300, Reward:-863.68\n",
      "Env:300/300, Reward:-495.24\n",
      "Finish training!\n",
      "Parameters saved!\n"
     ]
    },
    {
     "data": {
      "image/png": "[encoded data removed]",
      "text/plain": [
       "<Figure size 432x288 with 1 Axes>"
      ]
     },
     "metadata": {},
     "output_type": "display_data"
    },
    {
     "name": "stdout",
     "output_type": "stream",
     "text": [
      "Start testing\n",
      "Env:Pendulum-v1, Algorithm:DDPG, Device:cpu\n",
      "Epside:1/20, Reward:-248.2\n",
      "Epside:2/20, Reward:-126.5\n",
      "Epside:3/20, Reward:-7.1\n",
      "Epside:4/20, Reward:-130.1\n",
      "Epside:5/20, Reward:-8.2\n",
      "Epside:6/20, Reward:-124.8\n",
      "Epside:7/20, Reward:-134.3\n",
      "Epside:8/20, Reward:-119.5\n",
      "Epside:9/20, Reward:-254.2\n",
      "Epside:10/20, Reward:-256.1\n",
      "Epside:11/20, Reward:-124.4\n",
      "Epside:12/20, Reward:-127.7\n",
      "Epside:13/20, Reward:-7.1\n",
      "Epside:14/20, Reward:-124.3\n",
      "Epside:15/20, Reward:-127.6\n",
      "Epside:16/20, Reward:-122.5\n",
      "Epside:17/20, Reward:-242.5\n",
      "Epside:18/20, Reward:-122.1\n",
      "Epside:19/20, Reward:-248.0\n",
      "Epside:20/20, Reward:-130.5\n",
      "Finish testing!\n"
     ]
    },
    {
     "data": {
      "image/png": "[encoded data removed]",
      "text/plain": [
       "<Figure size 432x288 with 1 Axes>"
      ]
     },
     "metadata": {},
     "output_type": "display_data"
    }
   ],
   "source": [
    "if __name__ == \"__main__\":\n",
    "    cfg = Config() #get_args()\n",
    "    # training\n",
    "    env,agent = env_agent_config(cfg,seed=1)\n",
    "    res_dic = train(cfg, env, agent)\n",
    "    make_dir(cfg.result_path, cfg.model_path)\n",
    "    save_args(cfg)\n",
    "    agent.save(path=cfg.model_path)\n",
    "    #save_results(res_dic, tag='train',\n",
    "    #             path=cfg.result_path)  \n",
    "    plot_rewards(res_dic['rewards'], res_dic['ma_rewards'], cfg, tag=\"train\")  \n",
    "    # testing\n",
    "    env,agent = env_agent_config(cfg,seed=10)\n",
    "    agent.load(path=cfg.model_path)\n",
    "    res_dic = test(cfg,env,agent)\n",
    "    #save_results(res_dic, tag='test',\n",
    "    #             path=cfg.result_path)  \n",
    "    plot_rewards(res_dic['rewards'], res_dic['ma_rewards'], cfg, tag=\"test\")   "
   ]
  },
  {
   "cell_type": "code",
   "execution_count": null,
   "metadata": {},
   "outputs": [],
   "source": []
  },
  {
   "cell_type": "code",
   "execution_count": null,
   "metadata": {},
   "outputs": [],
   "source": [
    "\"\"\" 训练并绘制reward以及滑动平均后的reward随episode的变化曲线图并记录超参数写成报告 \"\"\""
   ]
  },
  {
   "cell_type": "code",
   "execution_count": null,
   "metadata": {},
   "outputs": [],
   "source": [
    "rewards = [] # 记录总的rewards\n",
    "moving_average_rewards = [] # 记录总的经滑动平均处理后的rewards\n",
    "ep_steps = []\n",
    "for i_episode in range(1, cfg.max_episodes+1): # cfg.max_episodes为最大训练的episode数\n",
    "    state = env.reset() # reset环境状态\n",
    "    ep_reward = 0\n",
    "    for i_step in range(1, cfg.max_steps+1): # cfg.max_steps为每个episode的补偿\n",
    "        action = agent.select_action(state) # 根据当前环境state选择action\n",
    "        next_state, reward, done, _ = env.step(action) # 更新环境参数\n",
    "        ep_reward += reward\n",
    "        agent.memory.push(state, action, reward, next_state, done) # 将state等这些transition存入memory\n",
    "        state = next_state # 跳转到下一个状态\n",
    "        agent.update() # 每步更新网络\n",
    "        if done:\n",
    "            break\n",
    "    # 更新target network，复制DQN中的所有weights and biases\n",
    "    if i_episode % cfg.target_update == 0: #  cfg.target_update为target_net的更新频率\n",
    "        agent.target_net.load_state_dict(agent.policy_net.state_dict())\n",
    "    print('Episode:', i_episode, ' Reward: %i' %\n",
    "          int(ep_reward), 'n_steps:', i_step, 'done: ', done,' Explore: %.2f' % agent.epsilon)\n",
    "    ep_steps.append(i_step)\n",
    "    rewards.append(ep_reward)\n",
    "    # 计算滑动窗口的reward\n",
    "    if i_episode == 1:\n",
    "        moving_average_rewards.append(ep_reward)\n",
    "    else:\n",
    "        moving_average_rewards.append(\n",
    "            0.9*moving_average_rewards[-1]+0.1*ep_reward)"
   ]
  },
  {
   "cell_type": "code",
   "execution_count": null,
   "metadata": {},
   "outputs": [],
   "source": []
  }
 ],
 "metadata": {
  "kernelspec": {
   "display_name": "Python 3",
   "language": "python",
   "name": "python3"
  },
  "language_info": {
   "codemirror_mode": {
    "name": "ipython",
    "version": 3
   },
   "file_extension": ".py",
   "mimetype": "text/x-python",
   "name": "python",
   "nbconvert_exporter": "python",
   "pygments_lexer": "ipython3",
   "version": "3.7.3"
  },
  "latex_envs": {
   "LaTeX_envs_menu_present": true,
   "autoclose": false,
   "autocomplete": true,
   "bibliofile": "biblio.bib",
   "cite_by": "apalike",
   "current_citInitial": 1,
   "eqLabelWithNumbers": true,
   "eqNumInitial": 1,
   "hotkeys": {
    "equation": "Ctrl-E",
    "itemize": "Ctrl-I"
   },
   "labels_anchors": false,
   "latex_user_defs": false,
   "report_style_numbering": false,
   "user_envs_cfg": false
  },
  "toc": {
   "base_numbering": 1,
   "nav_menu": {},
   "number_sections": true,
   "sideBar": true,
   "skip_h1_title": false,
   "title_cell": "Table of Contents",
   "title_sidebar": "Contents",
   "toc_cell": false,
   "toc_position": {},
   "toc_section_display": true,
   "toc_window_display": false
  }
 },
 "nbformat": 4,
 "nbformat_minor": 2
}
